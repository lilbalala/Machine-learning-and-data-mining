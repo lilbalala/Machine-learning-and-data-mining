{
 "cells": [
  {
   "cell_type": "code",
   "execution_count": 2,
   "id": "f9a6c6a0-662c-4f99-8ba7-b404efcb3e6b",
   "metadata": {},
   "outputs": [],
   "source": [
    "from pyecharts.charts import Line\n",
    "from pyecharts import options as opts"
   ]
  },
  {
   "cell_type": "code",
   "execution_count": 3,
   "id": "8102ae01-5ba0-40f2-bd41-75b7bd60d24d",
   "metadata": {},
   "outputs": [],
   "source": [
    "line = Line"
   ]
  },
  {
   "cell_type": "code",
   "execution_count": 10,
   "id": "46e405f4-450f-4ed7-bc4e-0080515e8178",
   "metadata": {},
   "outputs": [],
   "source": [
    "datax = ['2002','2003','2004']\n",
    "datay = [123,234,345]"
   ]
  },
  {
   "cell_type": "code",
   "execution_count": 11,
   "id": "bac8fb11-304d-44b5-9e7e-c4b09443eb7b",
   "metadata": {},
   "outputs": [
    {
     "ename": "TypeError",
     "evalue": "RectChart.add_xaxis() missing 1 required positional argument: 'xaxis_data'",
     "output_type": "error",
     "traceback": [
      "\u001b[1;31m---------------------------------------------------------------------------\u001b[0m",
      "\u001b[1;31mTypeError\u001b[0m                                 Traceback (most recent call last)",
      "Cell \u001b[1;32mIn[11], line 1\u001b[0m\n\u001b[1;32m----> 1\u001b[0m \u001b[43mline\u001b[49m\u001b[38;5;241;43m.\u001b[39;49m\u001b[43madd_xaxis\u001b[49m\u001b[43m(\u001b[49m\u001b[43m[\u001b[49m\u001b[38;5;28;43mstr\u001b[39;49m\u001b[43m(\u001b[49m\u001b[43mx\u001b[49m\u001b[43m)\u001b[49m\u001b[43m \u001b[49m\u001b[38;5;28;43;01mfor\u001b[39;49;00m\u001b[43m \u001b[49m\u001b[43mx\u001b[49m\u001b[43m \u001b[49m\u001b[38;5;129;43;01min\u001b[39;49;00m\u001b[43m \u001b[49m\u001b[43mdatax\u001b[49m\u001b[43m]\u001b[49m\u001b[43m)\u001b[49m\n\u001b[0;32m      2\u001b[0m line\u001b[38;5;241m.\u001b[39madd_yaxis(\u001b[38;5;124m\"\u001b[39m\u001b[38;5;124mprice\u001b[39m\u001b[38;5;124m\"\u001b[39m,datay,is_step\u001b[38;5;241m=\u001b[39m\u001b[38;5;28;01mTrue\u001b[39;00m)\n",
      "\u001b[1;31mTypeError\u001b[0m: RectChart.add_xaxis() missing 1 required positional argument: 'xaxis_data'"
     ]
    }
   ],
   "source": [
    "line.add_xaxis([str(x) for x in datax])\n",
    "line.add_yaxis(\"price\",datay,is_step=True)"
   ]
  },
  {
   "cell_type": "code",
   "execution_count": null,
   "id": "5b0d008d-d683-4f70-bb0b-8cc46c874af0",
   "metadata": {},
   "outputs": [],
   "source": []
  }
 ],
 "metadata": {
  "kernelspec": {
   "display_name": "Python 3 (ipykernel)",
   "language": "python",
   "name": "python3"
  },
  "language_info": {
   "codemirror_mode": {
    "name": "ipython",
    "version": 3
   },
   "file_extension": ".py",
   "mimetype": "text/x-python",
   "name": "python",
   "nbconvert_exporter": "python",
   "pygments_lexer": "ipython3",
   "version": "3.12.0"
  }
 },
 "nbformat": 4,
 "nbformat_minor": 5
}
