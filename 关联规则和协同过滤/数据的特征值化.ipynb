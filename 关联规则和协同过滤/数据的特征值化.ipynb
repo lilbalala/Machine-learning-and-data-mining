{
 "cells": [
  {
   "cell_type": "code",
   "execution_count": 2,
   "id": "410b6d1f-56f9-4c2f-9cc1-65e54a3b7a03",
   "metadata": {},
   "outputs": [
    {
     "name": "stdout",
     "output_type": "stream",
     "text": [
      "[[  0.   1.   0. 100.]\n",
      " [  1.   0.   0.  60.]\n",
      " [  0.   0.   1.  30.]]\n"
     ]
    },
    {
     "ename": "AttributeError",
     "evalue": "'DictVectorizer' object has no attribute 'get_feature_names'",
     "output_type": "error",
     "traceback": [
      "\u001b[1;31m---------------------------------------------------------------------------\u001b[0m",
      "\u001b[1;31mAttributeError\u001b[0m                            Traceback (most recent call last)",
      "Cell \u001b[1;32mIn[2], line 7\u001b[0m\n\u001b[0;32m      3\u001b[0m data \u001b[38;5;241m=\u001b[39m \u001b[38;5;28mdict\u001b[39m\u001b[38;5;241m.\u001b[39mfit_transform([{\u001b[38;5;124m'\u001b[39m\u001b[38;5;124mcity\u001b[39m\u001b[38;5;124m'\u001b[39m: \u001b[38;5;124m'\u001b[39m\u001b[38;5;124m北京\u001b[39m\u001b[38;5;124m'\u001b[39m,\u001b[38;5;124m'\u001b[39m\u001b[38;5;124mtemperature\u001b[39m\u001b[38;5;124m'\u001b[39m: \u001b[38;5;241m100\u001b[39m},\n\u001b[0;32m      4\u001b[0m                            {\u001b[38;5;124m'\u001b[39m\u001b[38;5;124mcity\u001b[39m\u001b[38;5;124m'\u001b[39m: \u001b[38;5;124m'\u001b[39m\u001b[38;5;124m上海\u001b[39m\u001b[38;5;124m'\u001b[39m,\u001b[38;5;124m'\u001b[39m\u001b[38;5;124mtemperature\u001b[39m\u001b[38;5;124m'\u001b[39m:\u001b[38;5;241m60\u001b[39m},\n\u001b[0;32m      5\u001b[0m                             {\u001b[38;5;124m'\u001b[39m\u001b[38;5;124mcity\u001b[39m\u001b[38;5;124m'\u001b[39m: \u001b[38;5;124m'\u001b[39m\u001b[38;5;124m深圳\u001b[39m\u001b[38;5;124m'\u001b[39m,\u001b[38;5;124m'\u001b[39m\u001b[38;5;124mtemperature\u001b[39m\u001b[38;5;124m'\u001b[39m: \u001b[38;5;241m30\u001b[39m}])\n\u001b[0;32m      6\u001b[0m \u001b[38;5;28mprint\u001b[39m(data)  \u001b[38;5;66;03m# ['city=上海', 'city=北京', 'city=深圳', 'temperature']\u001b[39;00m\n\u001b[1;32m----> 7\u001b[0m \u001b[38;5;28mprint\u001b[39m(\u001b[38;5;28;43mdict\u001b[39;49m\u001b[38;5;241;43m.\u001b[39;49m\u001b[43mget_feature_names\u001b[49m())\n\u001b[0;32m      8\u001b[0m \u001b[38;5;28mprint\u001b[39m(\u001b[38;5;28mdict\u001b[39m\u001b[38;5;241m.\u001b[39minverse_transform(data))\n",
      "\u001b[1;31mAttributeError\u001b[0m: 'DictVectorizer' object has no attribute 'get_feature_names'"
     ]
    }
   ],
   "source": [
    "from sklearn.feature_extraction import DictVectorizer\n",
    "dict = DictVectorizer(sparse=False)\n",
    "data = dict.fit_transform([{'city': '北京','temperature': 100},\n",
    "                           {'city': '上海','temperature':60},\n",
    "                            {'city': '深圳','temperature': 30}])\n",
    "print(data)  # ['city=上海', 'city=北京', 'city=深圳', 'temperature']\n",
    "print(dict.get_feature_names())\n",
    "print(dict.inverse_transform(data))"
   ]
  },
  {
   "cell_type": "code",
   "execution_count": 3,
   "id": "efcca1a7-4d7e-4178-930d-aa9f69834996",
   "metadata": {},
   "outputs": [
    {
     "ename": "AttributeError",
     "evalue": "'CountVectorizer' object has no attribute 'get_feature_names'",
     "output_type": "error",
     "traceback": [
      "\u001b[1;31m---------------------------------------------------------------------------\u001b[0m",
      "\u001b[1;31mAttributeError\u001b[0m                            Traceback (most recent call last)",
      "Cell \u001b[1;32mIn[3], line 8\u001b[0m\n\u001b[0;32m      5\u001b[0m res \u001b[38;5;241m=\u001b[39m vector\u001b[38;5;241m.\u001b[39mfit_transform([\u001b[38;5;124m\"\u001b[39m\u001b[38;5;124mlife is short,i like python\u001b[39m\u001b[38;5;124m\"\u001b[39m,\n\u001b[0;32m      6\u001b[0m                             \u001b[38;5;124m\"\u001b[39m\u001b[38;5;124mlife is too long,i dislike python\u001b[39m\u001b[38;5;124m\"\u001b[39m])\n\u001b[0;32m      7\u001b[0m \u001b[38;5;66;03m# 获取特征值\u001b[39;00m\n\u001b[1;32m----> 8\u001b[0m \u001b[38;5;28mprint\u001b[39m(\u001b[43mvector\u001b[49m\u001b[38;5;241;43m.\u001b[39;49m\u001b[43mget_feature_names\u001b[49m())\n\u001b[0;32m      9\u001b[0m \u001b[38;5;66;03m# 转换后的数据\u001b[39;00m\n\u001b[0;32m     10\u001b[0m \u001b[38;5;28mprint\u001b[39m(res\u001b[38;5;241m.\u001b[39mtoarray())\n",
      "\u001b[1;31mAttributeError\u001b[0m: 'CountVectorizer' object has no attribute 'get_feature_names'"
     ]
    }
   ],
   "source": [
    "from sklearn.feature_extraction.text import CountVectorizer\n",
    "#实例化CountVectorizer()\n",
    "vector = CountVectorizer()\n",
    "#调用fit_transform输入并转换数据\n",
    "res = vector.fit_transform([\"life is short,i like python\",\n",
    "                            \"life is too long,i dislike python\"])\n",
    "# 获取特征值\n",
    "print(vector.get_feature_names())\n",
    "# 转换后的数据\n",
    "print(res.toarray())"
   ]
  },
  {
   "cell_type": "code",
   "execution_count": 4,
   "id": "7d44f22a-76eb-4c51-8eed-2d4908edbe8d",
   "metadata": {},
   "outputs": [
    {
     "name": "stdout",
     "output_type": "stream",
     "text": [
      "[[2 0]\n",
      " [1 4]\n",
      " [1 1]]\n"
     ]
    }
   ],
   "source": [
    "from sklearn.feature_selection import VarianceThreshold\n",
    "#实例化VarianceThreshold()\n",
    "var = VarianceThreshold()\n",
    "#调用fit_transform()输入并转换数据\n",
    "data = var.fit_transform([[0,2,0,3],\n",
    "                      [0,1,4,3],\n",
    "                      [0,1,1,3]])\n",
    "#转换后的数据\n",
    "print(data)"
   ]
  },
  {
   "cell_type": "code",
   "execution_count": 8,
   "id": "25ee4dc3-4773-435b-851f-3ec7d4967381",
   "metadata": {},
   "outputs": [
    {
     "name": "stdout",
     "output_type": "stream",
     "text": [
      "[[1.         0.         0.         0.        ]\n",
      " [0.         1.         1.         0.83333333]\n",
      " [0.5        0.5        0.6        1.        ]]\n"
     ]
    }
   ],
   "source": [
    "from sklearn.preprocessing import MinMaxScaler\n",
    "#实例化MinMaxScaler()\n",
    "mm = MinMaxScaler()\n",
    "# 调用fit_transform()输入并转换数据\n",
    "data = mm.fit_transform([[90,2,10,40],[60,4,15,45],[75,3,13,46]])\n",
    "# 转换后的数据\n",
    "print(data)"
   ]
  },
  {
   "cell_type": "code",
   "execution_count": 9,
   "id": "6992737c-6b0b-4add-8cec-ab73d6a4d274",
   "metadata": {},
   "outputs": [
    {
     "name": "stdout",
     "output_type": "stream",
     "text": [
      "[[-1.06904497 -1.35873244  1.22474487]\n",
      " [-0.26726124  0.33968311  0.        ]\n",
      " [ 1.33630621  1.01904933 -1.22474487]]\n"
     ]
    }
   ],
   "source": [
    "from sklearn.preprocessing import StandardScaler\n",
    "#实例化StandardScaler()\n",
    "standard = StandardScaler()\n",
    "#调用fit_transform()输入并转换数据\n",
    "data = standard.fit_transform([[1,-1,3],[2,4,2],[4,6,1]])\n",
    "#转换后的数据\n",
    "print(data)"
   ]
  },
  {
   "cell_type": "code",
   "execution_count": 10,
   "id": "af942c7e-4d5d-44d2-9c1b-8157dbba12b3",
   "metadata": {},
   "outputs": [
    {
     "ename": "ImportError",
     "evalue": "cannot import name 'Imputer' from 'sklearn.preprocessing' (E:\\Python\\python3.12.0\\Lib\\site-packages\\sklearn\\preprocessing\\__init__.py)",
     "output_type": "error",
     "traceback": [
      "\u001b[1;31m---------------------------------------------------------------------------\u001b[0m",
      "\u001b[1;31mImportError\u001b[0m                               Traceback (most recent call last)",
      "Cell \u001b[1;32mIn[10], line 1\u001b[0m\n\u001b[1;32m----> 1\u001b[0m \u001b[38;5;28;01mfrom\u001b[39;00m \u001b[38;5;21;01msklearn\u001b[39;00m\u001b[38;5;21;01m.\u001b[39;00m\u001b[38;5;21;01mpreprocessing\u001b[39;00m \u001b[38;5;28;01mimport\u001b[39;00m Imputer\n\u001b[0;32m      2\u001b[0m \u001b[38;5;28;01mfrom\u001b[39;00m \u001b[38;5;21;01msklearn\u001b[39;00m\u001b[38;5;21;01m.\u001b[39;00m\u001b[38;5;21;01mimpute\u001b[39;00m \u001b[38;5;28;01mimport\u001b[39;00m SimpleImputer\n\u001b[0;32m      3\u001b[0m \u001b[38;5;28;01mimport\u001b[39;00m \u001b[38;5;21;01mnumpy\u001b[39;00m \u001b[38;5;28;01mas\u001b[39;00m \u001b[38;5;21;01mnp\u001b[39;00m\n",
      "\u001b[1;31mImportError\u001b[0m: cannot import name 'Imputer' from 'sklearn.preprocessing' (E:\\Python\\python3.12.0\\Lib\\site-packages\\sklearn\\preprocessing\\__init__.py)"
     ]
    }
   ],
   "source": [
    "from sklearn.preprocessing import Imputer\n",
    "from sklearn.impute import SimpleImputer\n",
    "import numpy as np\n",
    "#实例化SimpleImputer(),指定缺失值为missing_values=np.NaN,\n",
    "# 填补策略为平均值strategy=\"mean\"\n",
    "im = SimpleImputer(missing_values=np.NaN,strategy=\"mean\")\n",
    "# 调用fit_transform()输入并转换数据\n",
    "data = im.fit_transform([[1,2],[np.NaN,3],[7,6]])\n",
    "# 转换后的数据\n",
    "print(data)"
   ]
  },
  {
   "cell_type": "code",
   "execution_count": null,
   "id": "c3fed1ba-0173-4ad0-b643-88511b5a6b5f",
   "metadata": {},
   "outputs": [],
   "source": []
  }
 ],
 "metadata": {
  "kernelspec": {
   "display_name": "Python 3 (ipykernel)",
   "language": "python",
   "name": "python3"
  },
  "language_info": {
   "codemirror_mode": {
    "name": "ipython",
    "version": 3
   },
   "file_extension": ".py",
   "mimetype": "text/x-python",
   "name": "python",
   "nbconvert_exporter": "python",
   "pygments_lexer": "ipython3",
   "version": "3.12.0"
  }
 },
 "nbformat": 4,
 "nbformat_minor": 5
}
