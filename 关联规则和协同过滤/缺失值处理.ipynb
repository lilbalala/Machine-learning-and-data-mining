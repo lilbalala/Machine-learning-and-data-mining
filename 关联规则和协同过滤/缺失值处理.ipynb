{
 "cells": [
  {
   "cell_type": "code",
   "execution_count": 1,
   "id": "783a0718-5788-4113-abf7-6c9d994e6d8d",
   "metadata": {},
   "outputs": [],
   "source": [
    "import numpy as np\n",
    "import pandas as pd "
   ]
  },
  {
   "cell_type": "code",
   "execution_count": 2,
   "id": "662e35a7-2fbc-41e7-8988-56c809d877bd",
   "metadata": {},
   "outputs": [
    {
     "name": "stdout",
     "output_type": "stream",
     "text": [
      "   feature1  feature2  feature3  label\n",
      "0       1.0       3.0       3.0   10.0\n",
      "1       2.0      13.0       NaN   15.0\n",
      "2       3.0       7.0      10.0    8.0\n",
      "3       NaN       NaN       NaN   14.0\n",
      "4       5.0       4.0       4.0   16.0\n",
      "5       NaN       NaN       NaN    NaN\n"
     ]
    }
   ],
   "source": [
    "col1 = [1, 2, 3,  np.nan, 5,np.nan]\n",
    "col2 = [3, 13, 7, np.nan, 4, np.nan]\n",
    "col3 = [3, np.nan, 10, np.nan, 4, np.nan]\n",
    "y = [10, 15, 8,  14, 16, np.nan]\n",
    "data = {'feature1':col1, 'feature2':col2, 'feature3':col3, 'label':y}\n",
    "df = pd.DataFrame(data)\n",
    "print(df)"
   ]
  },
  {
   "cell_type": "code",
   "execution_count": 3,
   "id": "710b9783-211d-46d0-8c52-e2f9faac0493",
   "metadata": {},
   "outputs": [
    {
     "name": "stdout",
     "output_type": "stream",
     "text": [
      "   feature1  feature2  feature3  label\n",
      "0       1.0       3.0       3.0   10.0\n",
      "2       3.0       7.0      10.0    8.0\n",
      "4       5.0       4.0       4.0   16.0\n",
      "   feature1  feature2  feature3  label\n",
      "0       1.0       3.0       3.0   10.0\n",
      "1       2.0      13.0       NaN   15.0\n",
      "2       3.0       7.0      10.0    8.0\n",
      "3       NaN       NaN       NaN   14.0\n",
      "4       5.0       4.0       4.0   16.0\n",
      "   feature1  feature2  feature3  label\n",
      "0       1.0       3.0       3.0   10.0\n",
      "1       2.0      13.0       NaN   15.0\n",
      "2       3.0       7.0      10.0    8.0\n",
      "4       5.0       4.0       4.0   16.0\n",
      "   feature1  feature2  feature3  label\n",
      "0       1.0       3.0       3.0   10.0\n",
      "1       2.0      13.0       NaN   15.0\n",
      "2       3.0       7.0      10.0    8.0\n",
      "4       5.0       4.0       4.0   16.0\n",
      "--df5---\n",
      "None\n",
      "--dfcopy---\n",
      "   feature1  feature2  feature3  label\n",
      "0       1.0       3.0       3.0   10.0\n",
      "2       3.0       7.0      10.0    8.0\n",
      "4       5.0       4.0       4.0   16.0\n"
     ]
    }
   ],
   "source": [
    "# 1.按默认参数删除：\n",
    "df1 = df.dropna()\n",
    "print(df1)\n",
    "# 2.删除值全为空的行：\n",
    "df1 = df.dropna(axis=0,how='all')\n",
    "print(df1)\n",
    "# 3.保留至少有两个非空值的行：\n",
    "df3 = df.dropna(thresh=2)\n",
    "print(df3)\n",
    "# 4.指定列删除空缺值：\n",
    "df4 = df.dropna(subset=['feature1', 'feature2'])\n",
    "print(df4) \n",
    "# 5.直接在原有的dataframe上删除空缺值：\n",
    "dfcopy = df.copy()\n",
    "df5 = dfcopy.dropna(inplace=True)\n",
    "print('--df5---')\n",
    "print(df5)\n",
    "print('--dfcopy---')\n",
    "print(dfcopy) "
   ]
  },
  {
   "cell_type": "code",
   "execution_count": 4,
   "id": "1b068eb6-b97e-4ff5-9f74-87c1ef8500e3",
   "metadata": {},
   "outputs": [
    {
     "name": "stdout",
     "output_type": "stream",
     "text": [
      "   feature3  label\n",
      "0       3.0   10.0\n",
      "1       NaN   15.0\n",
      "2      10.0    8.0\n",
      "3       NaN   14.0\n",
      "4       4.0   16.0\n",
      "5       NaN    NaN\n",
      "   feature1  feature2  feature3  label\n",
      "4       5.0       4.0       4.0   16.0\n",
      "5       NaN       NaN       NaN    NaN\n"
     ]
    }
   ],
   "source": [
    "# 1.删除指定列：\n",
    "df10 = df.drop(['feature1', 'feature2'], axis=1)\n",
    "print(df10) \n",
    "# 2.删除指定行：\n",
    "df11 = df.drop([0,1,2,3], axis=0)\n",
    "print(df11)"
   ]
  },
  {
   "cell_type": "code",
   "execution_count": 5,
   "id": "65116a9f-75d9-47d7-87f1-fb01276e6ae0",
   "metadata": {},
   "outputs": [
    {
     "name": "stdout",
     "output_type": "stream",
     "text": [
      "   feature1  feature2  feature3  label\n",
      "0       1.0       3.0       3.0   10.0\n",
      "1       2.0      13.0       0.0   15.0\n",
      "2       3.0       7.0      10.0    8.0\n",
      "3       0.0       0.0       0.0   14.0\n",
      "4       5.0       4.0       4.0   16.0\n",
      "5       0.0       0.0       0.0    0.0\n",
      "   feature1  feature2  feature3  label\n",
      "0       1.0       3.0       3.0   10.0\n",
      "1       2.0      13.0       3.0   15.0\n",
      "2       3.0       7.0      10.0    8.0\n",
      "3       3.0       7.0      10.0   14.0\n",
      "4       5.0       4.0       4.0   16.0\n",
      "5       5.0       4.0       4.0   16.0\n",
      "   feature1  feature2  feature3  label\n",
      "0       1.0       3.0       3.0   10.0\n",
      "1       2.0      13.0      10.0   15.0\n",
      "2       3.0       7.0      10.0    8.0\n",
      "3       5.0       4.0       4.0   14.0\n",
      "4       5.0       4.0       4.0   16.0\n",
      "5       NaN       NaN       NaN    NaN\n"
     ]
    },
    {
     "name": "stderr",
     "output_type": "stream",
     "text": [
      "C:\\Users\\PC\\AppData\\Local\\Temp\\ipykernel_23064\\2990081894.py:5: FutureWarning: DataFrame.fillna with 'method' is deprecated and will raise in a future version. Use obj.ffill() or obj.bfill() instead.\n",
      "  df21 = df.fillna(method='ffill')\n",
      "C:\\Users\\PC\\AppData\\Local\\Temp\\ipykernel_23064\\2990081894.py:8: FutureWarning: DataFrame.fillna with 'method' is deprecated and will raise in a future version. Use obj.ffill() or obj.bfill() instead.\n",
      "  df22 = df.fillna(method='bfill')\n"
     ]
    }
   ],
   "source": [
    "# 1.使用指定值填充所有缺失值：\n",
    "df20 = df.fillna(0)\n",
    "print(df20) \n",
    "# 2.使用前值填充所有缺失值：\n",
    "df21 = df.fillna(method='ffill')\n",
    "print(df21) \n",
    "# 3.使用后值填充所有缺失值：\n",
    "df22 = df.fillna(method='bfill')\n",
    "print(df22)"
   ]
  },
  {
   "cell_type": "code",
   "execution_count": 6,
   "id": "5e3191f7-4aec-43eb-a954-1314393d1648",
   "metadata": {},
   "outputs": [
    {
     "name": "stdout",
     "output_type": "stream",
     "text": [
      "   feature1  feature2  feature3  label\n",
      "0       1.0       3.0       3.0   10.0\n",
      "1       2.0      13.0     300.0   15.0\n",
      "2       3.0       7.0      10.0    8.0\n",
      "3     100.0     200.0     300.0   14.0\n",
      "4       5.0       4.0       4.0   16.0\n",
      "5     100.0     200.0     300.0  400.0\n"
     ]
    }
   ],
   "source": [
    "values = {'feature1': 100, 'feature2': 200, 'feature3': 300, 'label': 400}\n",
    "df23 = df.fillna(value=values)\n",
    "print(df23)"
   ]
  },
  {
   "cell_type": "code",
   "execution_count": null,
   "id": "a6a5c814-6e6c-4935-88df-2319b898feba",
   "metadata": {},
   "outputs": [],
   "source": []
  }
 ],
 "metadata": {
  "kernelspec": {
   "display_name": "Python 3 (ipykernel)",
   "language": "python",
   "name": "python3"
  },
  "language_info": {
   "codemirror_mode": {
    "name": "ipython",
    "version": 3
   },
   "file_extension": ".py",
   "mimetype": "text/x-python",
   "name": "python",
   "nbconvert_exporter": "python",
   "pygments_lexer": "ipython3",
   "version": "3.12.0"
  }
 },
 "nbformat": 4,
 "nbformat_minor": 5
}
