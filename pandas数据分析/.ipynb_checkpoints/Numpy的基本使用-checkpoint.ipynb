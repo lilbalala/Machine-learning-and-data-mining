{
 "cells": [
  {
   "cell_type": "code",
   "execution_count": 1,
   "id": "c2226588-9247-44df-8b0d-afb641a82c1a",
   "metadata": {},
   "outputs": [],
   "source": [
    "import numpy as np"
   ]
  },
  {
   "cell_type": "markdown",
   "id": "2b7a4d3d-a089-47eb-8e62-634992b108da",
   "metadata": {},
   "source": [
    "## 切片"
   ]
  },
  {
   "cell_type": "code",
   "execution_count": 10,
   "id": "7123eb7b-0bc8-4a8a-91bc-c237cb735c4c",
   "metadata": {},
   "outputs": [
    {
     "name": "stdout",
     "output_type": "stream",
     "text": [
      "[20 50 80]\n",
      "[[10 20]\n",
      " [40 50]\n",
      " [70 80]]\n",
      "[[40 50 60]\n",
      " [70 80 90]]\n",
      "[[40 50]\n",
      " [70 80]]\n"
     ]
    }
   ],
   "source": [
    "matrix = np.array([[10,20,30],[40,50,60],[70,80,90]])\n",
    "print(matrix[:,1])\n",
    "print(matrix[:,0:2])\n",
    "print(matrix[1:3,:])\n",
    "print(matrix[1:3,0:2])"
   ]
  },
  {
   "cell_type": "markdown",
   "id": "a6e8cb8d-cf38-43f1-afd1-80e8617d0236",
   "metadata": {},
   "source": [
    "## 数组比较"
   ]
  },
  {
   "cell_type": "code",
   "execution_count": 11,
   "id": "8a564161-3e4e-43e5-81b1-f4f285bc5290",
   "metadata": {},
   "outputs": [
    {
     "name": "stdout",
     "output_type": "stream",
     "text": [
      "[[False False False]\n",
      " [False  True False]\n",
      " [False False False]]\n"
     ]
    }
   ],
   "source": [
    "m = (matrix==50)\n",
    "print(m)"
   ]
  },
  {
   "cell_type": "code",
   "execution_count": 13,
   "id": "c1822da4-d10a-4f5b-8385-83be3bd37bae",
   "metadata": {},
   "outputs": [
    {
     "name": "stdout",
     "output_type": "stream",
     "text": [
      "[False  True False]\n",
      "[[40 50 60]]\n"
     ]
    }
   ],
   "source": [
    "second_column_50=(matrix[:,1] == 50)\n",
    "print(second_column_50)\n",
    "print(matrix[second_column_50,:])"
   ]
  },
  {
   "cell_type": "markdown",
   "id": "adb7db42-ba00-4109-9744-ea94160bc7d1",
   "metadata": {},
   "source": [
    "## 替代值"
   ]
  },
  {
   "cell_type": "code",
   "execution_count": null,
   "id": "a1901c54-6df8-44f4-810a-b0ff53cf0c39",
   "metadata": {},
   "outputs": [],
   "source": []
  }
 ],
 "metadata": {
  "kernelspec": {
   "display_name": "Python 3 (ipykernel)",
   "language": "python",
   "name": "python3"
  },
  "language_info": {
   "codemirror_mode": {
    "name": "ipython",
    "version": 3
   },
   "file_extension": ".py",
   "mimetype": "text/x-python",
   "name": "python",
   "nbconvert_exporter": "python",
   "pygments_lexer": "ipython3",
   "version": "3.12.0"
  }
 },
 "nbformat": 4,
 "nbformat_minor": 5
}
